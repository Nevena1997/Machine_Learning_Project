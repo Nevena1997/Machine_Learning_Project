{
 "cells": [
  {
   "cell_type": "markdown",
   "metadata": {},
   "source": [
    "# Training stage\n",
    "\n",
    "<img src=\"https://user-images.githubusercontent.com/74012107/131382816-40a83670-6dc1-439b-824d-3354279b181a.png\" width=\"1100\" height=\"700\">"
   ]
  },
  {
   "cell_type": "code",
   "execution_count": 1,
   "metadata": {},
   "outputs": [],
   "source": [
    "import numpy as np\n",
    "from matplotlib import pyplot as plt\n",
    "\n",
    "import tensorflow as tf\n",
    "from tensorflow.keras.models import Sequential\n",
    "from tensorflow.keras.layers import Dense, Activation, Flatten, Dropout, Conv2D, MaxPooling2D\n",
    "from keras.callbacks import ModelCheckpoint\n",
    "\n",
    "from sklearn.metrics import confusion_matrix, classification_report\n",
    "from sklearn import metrics"
   ]
  },
  {
   "cell_type": "code",
   "execution_count": 2,
   "metadata": {},
   "outputs": [],
   "source": [
    "# Load datasets from the preprocessing stage\n",
    "data_train = np.load('data_train.npy')\n",
    "target_train = np.load('target_train.npy')\n",
    "\n",
    "data_validation = np.load('data_validation.npy')\n",
    "target_validation = np.load('target_validation.npy')\n",
    "\n",
    "data_test = np.load('data_test.npy')\n",
    "target_test = np.load('target_test.npy')"
   ]
  },
  {
   "cell_type": "code",
   "execution_count": 3,
   "metadata": {},
   "outputs": [],
   "source": [
    "# Make the model\n",
    "model = Sequential()\n",
    "\n",
    "model.add(Conv2D(100, (3, 3), input_shape = data_train.shape[1:], activation = 'relu'))\n",
    "model.add(MaxPooling2D(pool_size = (2, 2)))\n",
    "\n",
    "model.add(Conv2D(100, (3, 3), activation = 'relu'))\n",
    "model.add(MaxPooling2D(pool_size = (2, 2)))\n",
    "\n",
    "model.add(Conv2D(100, (3, 3), activation = 'relu'))\n",
    "model.add(MaxPooling2D(pool_size = (2, 2)))\n",
    "\n",
    "model.add(Dropout(0.25))\n",
    "model.add(Flatten())\n",
    "model.add(Dense(50, activation = 'relu'))\n",
    "model.add(Dropout(0.5))\n",
    "model.add(Dense(2, activation = 'softmax'))\n",
    "\n",
    "model.compile(loss = 'categorical_crossentropy', optimizer = 'adam', metrics = ['accuracy'])"
   ]
  },
  {
   "cell_type": "code",
   "execution_count": 4,
   "metadata": {},
   "outputs": [
    {
     "name": "stdout",
     "output_type": "stream",
     "text": [
      "Model: \"sequential\"\n",
      "_________________________________________________________________\n",
      "Layer (type)                 Output Shape              Param #   \n",
      "=================================================================\n",
      "conv2d (Conv2D)              (None, 98, 98, 100)       1000      \n",
      "_________________________________________________________________\n",
      "max_pooling2d (MaxPooling2D) (None, 49, 49, 100)       0         \n",
      "_________________________________________________________________\n",
      "conv2d_1 (Conv2D)            (None, 47, 47, 100)       90100     \n",
      "_________________________________________________________________\n",
      "max_pooling2d_1 (MaxPooling2 (None, 23, 23, 100)       0         \n",
      "_________________________________________________________________\n",
      "conv2d_2 (Conv2D)            (None, 21, 21, 100)       90100     \n",
      "_________________________________________________________________\n",
      "max_pooling2d_2 (MaxPooling2 (None, 10, 10, 100)       0         \n",
      "_________________________________________________________________\n",
      "dropout (Dropout)            (None, 10, 10, 100)       0         \n",
      "_________________________________________________________________\n",
      "flatten (Flatten)            (None, 10000)             0         \n",
      "_________________________________________________________________\n",
      "dense (Dense)                (None, 50)                500050    \n",
      "_________________________________________________________________\n",
      "dropout_1 (Dropout)          (None, 50)                0         \n",
      "_________________________________________________________________\n",
      "dense_1 (Dense)              (None, 2)                 102       \n",
      "=================================================================\n",
      "Total params: 681,352\n",
      "Trainable params: 681,352\n",
      "Non-trainable params: 0\n",
      "_________________________________________________________________\n"
     ]
    }
   ],
   "source": [
    "model.summary() # Provides an overview of the model"
   ]
  },
  {
   "cell_type": "code",
   "execution_count": 5,
   "metadata": {},
   "outputs": [
    {
     "name": "stdout",
     "output_type": "stream",
     "text": [
      "Epoch 1/10\n",
      "313/313 [==============================] - 174s 557ms/step - loss: 0.2561 - accuracy: 0.8848 - val_loss: 0.0978 - val_accuracy: 0.9638\n",
      "Epoch 2/10\n",
      "313/313 [==============================] - 169s 539ms/step - loss: 0.0987 - accuracy: 0.9681 - val_loss: 0.0566 - val_accuracy: 0.9787\n",
      "Epoch 3/10\n",
      "313/313 [==============================] - 195s 623ms/step - loss: 0.0845 - accuracy: 0.9731 - val_loss: 0.0589 - val_accuracy: 0.9787\n",
      "Epoch 4/10\n",
      "313/313 [==============================] - 188s 602ms/step - loss: 0.0606 - accuracy: 0.9797 - val_loss: 0.0542 - val_accuracy: 0.9775\n",
      "Epoch 5/10\n",
      "313/313 [==============================] - 190s 606ms/step - loss: 0.0523 - accuracy: 0.9816 - val_loss: 0.0417 - val_accuracy: 0.9862\n",
      "Epoch 6/10\n",
      "313/313 [==============================] - 190s 607ms/step - loss: 0.0536 - accuracy: 0.9829 - val_loss: 0.0452 - val_accuracy: 0.9837\n",
      "Epoch 7/10\n",
      "313/313 [==============================] - 182s 582ms/step - loss: 0.0448 - accuracy: 0.9842 - val_loss: 0.0338 - val_accuracy: 0.9875\n",
      "Epoch 8/10\n",
      "313/313 [==============================] - 161s 513ms/step - loss: 0.0376 - accuracy: 0.9865 - val_loss: 0.0321 - val_accuracy: 0.9887\n",
      "Epoch 9/10\n",
      "313/313 [==============================] - 178s 569ms/step - loss: 0.0374 - accuracy: 0.9873 - val_loss: 0.0358 - val_accuracy: 0.9850\n",
      "Epoch 10/10\n",
      "313/313 [==============================] - 198s 633ms/step - loss: 0.0321 - accuracy: 0.9872 - val_loss: 0.0343 - val_accuracy: 0.9887\n"
     ]
    }
   ],
   "source": [
    "history = model.fit(data_train, target_train, epochs = 10, validation_data = (data_validation, target_validation)) "
   ]
  },
  {
   "cell_type": "code",
   "execution_count": 6,
   "metadata": {},
   "outputs": [
    {
     "data": {
      "image/png": "[encoded data removed]",
      "text/plain": [
       "<Figure size 720x288 with 2 Axes>"
      ]
     },
     "metadata": {
      "needs_background": "light"
     },
     "output_type": "display_data"
    }
   ],
   "source": [
    "plt.figure(figsize = (10, 4))\n",
    "plt.subplot(1, 2, 1)\n",
    "plt.plot(history.history['loss'], 'r', label = 'training loss')\n",
    "plt.plot(history.history['val_loss'], label = 'validation loss')\n",
    "plt.xlabel('epochs')\n",
    "plt.ylabel('loss')\n",
    "plt.legend(loc = 'best')\n",
    "\n",
    "plt.subplot(1, 2, 2)\n",
    "plt.plot(history.history['accuracy'], 'r', label = 'training accuracy')\n",
    "plt.plot(history.history['val_accuracy'], label = 'validation accuracy')\n",
    "plt.xlabel('epochs')\n",
    "plt.ylabel('loss')\n",
    "plt.legend(loc = 'best')\n",
    "\n",
    "plt.show()"
   ]
  },
  {
   "cell_type": "markdown",
   "metadata": {},
   "source": [
    "## Evaluate the model"
   ]
  },
  {
   "cell_type": "code",
   "execution_count": 7,
   "metadata": {},
   "outputs": [
    {
     "name": "stdout",
     "output_type": "stream",
     "text": [
      "31/31 [==============================] - 4s 119ms/step - loss: 0.0353 - accuracy: 0.9869\n",
      "[0.035341765731573105, 0.9868951439857483]\n"
     ]
    }
   ],
   "source": [
    "print(model.evaluate(data_test, target_test)) "
   ]
  },
  {
   "cell_type": "code",
   "execution_count": 8,
   "metadata": {},
   "outputs": [],
   "source": [
    "target_predicted = model.predict(data_test)\n",
    "target_predicted_classes = np.argmax(target_predicted,axis = 1)\n",
    "target_test_classes = np.argmax(target_test, axis = 1)"
   ]
  },
  {
   "cell_type": "code",
   "execution_count": 9,
   "metadata": {},
   "outputs": [
    {
     "name": "stdout",
     "output_type": "stream",
     "text": [
      "Confusion matrix:\n",
      "[[479   4]\n",
      " [  9 500]]\n"
     ]
    }
   ],
   "source": [
    "confusion_m = confusion_matrix(target_test_classes,target_predicted_classes)\n",
    "print('Confusion matrix:\\n{}'.format(confusion_m))"
   ]
  },
  {
   "cell_type": "code",
   "execution_count": 10,
   "metadata": {},
   "outputs": [
    {
     "name": "stdout",
     "output_type": "stream",
     "text": [
      "Precision score: 0.9920634920634921\n"
     ]
    }
   ],
   "source": [
    "print('Precision score: {}'.format(metrics.precision_score(target_test_classes, target_predicted_classes)))"
   ]
  },
  {
   "cell_type": "code",
   "execution_count": 11,
   "metadata": {},
   "outputs": [
    {
     "name": "stdout",
     "output_type": "stream",
     "text": [
      "Recall score: 0.9823182711198428\n"
     ]
    }
   ],
   "source": [
    "print('Recall score: {}'.format(metrics.recall_score(target_test_classes, target_predicted_classes)))"
   ]
  },
  {
   "cell_type": "code",
   "execution_count": 12,
   "metadata": {},
   "outputs": [
    {
     "name": "stdout",
     "output_type": "stream",
     "text": [
      "F1 score: 0.9871668311944718\n"
     ]
    }
   ],
   "source": [
    "print('F1 score: {}'.format(metrics.f1_score(target_test_classes, target_predicted_classes)))"
   ]
  },
  {
   "cell_type": "code",
   "execution_count": 13,
   "metadata": {},
   "outputs": [
    {
     "name": "stdout",
     "output_type": "stream",
     "text": [
      "              precision    recall  f1-score   support\n",
      "\n",
      "           0       0.98      0.99      0.99       483\n",
      "           1       0.99      0.98      0.99       509\n",
      "\n",
      "    accuracy                           0.99       992\n",
      "   macro avg       0.99      0.99      0.99       992\n",
      "weighted avg       0.99      0.99      0.99       992\n",
      "\n"
     ]
    }
   ],
   "source": [
    "# Classification report\n",
    "report = classification_report(target_test_classes, target_predicted_classes)\n",
    "print(report)"
   ]
  },
  {
   "cell_type": "code",
   "execution_count": null,
   "metadata": {},
   "outputs": [],
   "source": []
  },
  {
   "cell_type": "code",
   "execution_count": 14,
   "metadata": {},
   "outputs": [
    {
     "name": "stdout",
     "output_type": "stream",
     "text": [
      "Saved model to disk\n"
     ]
    }
   ],
   "source": [
    "# Save the model\n",
    "model.save(\"model.h5\")\n",
    "print(\"Saved model to disk\")"
   ]
  },
  {
   "cell_type": "code",
   "execution_count": null,
   "metadata": {},
   "outputs": [],
   "source": []
  }
 ],
 "metadata": {
  "kernelspec": {
   "display_name": "mlp_venv",
   "language": "python",
   "name": "mlp_venv"
  },
  "language_info": {
   "codemirror_mode": {
    "name": "ipython",
    "version": 3
   },
   "file_extension": ".py",
   "mimetype": "text/x-python",
   "name": "python",
   "nbconvert_exporter": "python",
   "pygments_lexer": "ipython3",
   "version": "3.8.5"
  }
 },
 "nbformat": 4,
 "nbformat_minor": 4
}
