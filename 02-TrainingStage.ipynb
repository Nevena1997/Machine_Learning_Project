{
 "cells": [
  {
   "cell_type": "markdown",
   "metadata": {},
   "source": [
    "# Training stage\n",
    "\n",
    "<img src=\"https://user-images.githubusercontent.com/74012107/131410494-b246ca89-4d64-4c46-b11b-2d140fbb6937.png\" width=\"1100\" height=\"700\">"
   ]
  },
  {
   "cell_type": "code",
   "execution_count": 1,
   "metadata": {},
   "outputs": [],
   "source": [
    "import numpy as np\n",
    "from matplotlib import pyplot as plt\n",
    "\n",
    "import tensorflow as tf\n",
    "from tensorflow.keras.models import Sequential\n",
    "from tensorflow.keras.layers import Dense, Activation, Flatten, Dropout, Conv2D, MaxPooling2D\n",
    "from keras.callbacks import ModelCheckpoint\n",
    "\n",
    "from sklearn.metrics import confusion_matrix, classification_report\n",
    "from sklearn import metrics"
   ]
  },
  {
   "cell_type": "code",
   "execution_count": 2,
   "metadata": {},
   "outputs": [],
   "source": [
    "np.random.seed(2021)"
   ]
  },
  {
   "cell_type": "code",
   "execution_count": 3,
   "metadata": {},
   "outputs": [],
   "source": [
    "# Load datasets from the preprocessing stage\n",
    "data_train = np.load('DatasetPreprocessed/data_train.npy')\n",
    "target_train = np.load('DatasetPreprocessed/target_train.npy')\n",
    "\n",
    "data_validation = np.load('DatasetPreprocessed/data_validation.npy')\n",
    "target_validation = np.load('DatasetPreprocessed/target_validation.npy')\n",
    "\n",
    "data_test = np.load('DatasetPreprocessed/data_test.npy')\n",
    "target_test = np.load('DatasetPreprocessed/target_test.npy')"
   ]
  },
  {
   "cell_type": "code",
   "execution_count": 4,
   "metadata": {},
   "outputs": [],
   "source": [
    "# Make the model\n",
    "model = Sequential()\n",
    "\n",
    "model.add(Conv2D(200, (3, 3), input_shape = data_train.shape[1:], activation = 'relu'))\n",
    "model.add(MaxPooling2D(pool_size = (2, 2)))\n",
    "\n",
    "model.add(Conv2D(100, (3, 3), activation = 'relu'))\n",
    "model.add(MaxPooling2D(pool_size = (2, 2)))\n",
    "\n",
    "model.add(Conv2D(100, (3, 3), activation = 'relu'))\n",
    "model.add(MaxPooling2D(pool_size = (2, 2)))\n",
    "\n",
    "model.add(Dropout(0.25))\n",
    "model.add(Flatten())\n",
    "model.add(Dense(50, activation = 'relu'))\n",
    "model.add(Dropout(0.5))\n",
    "model.add(Dense(2, activation = 'softmax'))\n",
    "\n",
    "model.compile(loss = 'categorical_crossentropy', optimizer = 'adam', metrics = ['accuracy'])"
   ]
  },
  {
   "cell_type": "code",
   "execution_count": 5,
   "metadata": {},
   "outputs": [
    {
     "name": "stdout",
     "output_type": "stream",
     "text": [
      "Model: \"sequential\"\n",
      "_________________________________________________________________\n",
      "Layer (type)                 Output Shape              Param #   \n",
      "=================================================================\n",
      "conv2d (Conv2D)              (None, 98, 98, 200)       2000      \n",
      "_________________________________________________________________\n",
      "max_pooling2d (MaxPooling2D) (None, 49, 49, 200)       0         \n",
      "_________________________________________________________________\n",
      "conv2d_1 (Conv2D)            (None, 47, 47, 100)       180100    \n",
      "_________________________________________________________________\n",
      "max_pooling2d_1 (MaxPooling2 (None, 23, 23, 100)       0         \n",
      "_________________________________________________________________\n",
      "conv2d_2 (Conv2D)            (None, 21, 21, 100)       90100     \n",
      "_________________________________________________________________\n",
      "max_pooling2d_2 (MaxPooling2 (None, 10, 10, 100)       0         \n",
      "_________________________________________________________________\n",
      "dropout (Dropout)            (None, 10, 10, 100)       0         \n",
      "_________________________________________________________________\n",
      "flatten (Flatten)            (None, 10000)             0         \n",
      "_________________________________________________________________\n",
      "dense (Dense)                (None, 50)                500050    \n",
      "_________________________________________________________________\n",
      "dropout_1 (Dropout)          (None, 50)                0         \n",
      "_________________________________________________________________\n",
      "dense_1 (Dense)              (None, 2)                 102       \n",
      "=================================================================\n",
      "Total params: 772,352\n",
      "Trainable params: 772,352\n",
      "Non-trainable params: 0\n",
      "_________________________________________________________________\n"
     ]
    }
   ],
   "source": [
    "model.summary() # Provides an overview of the model"
   ]
  },
  {
   "cell_type": "code",
   "execution_count": 6,
   "metadata": {},
   "outputs": [
    {
     "name": "stdout",
     "output_type": "stream",
     "text": [
      "Epoch 1/10\n",
      "313/313 [==============================] - 253s 807ms/step - loss: 0.2783 - accuracy: 0.8662 - val_loss: 0.1069 - val_accuracy: 0.9613\n",
      "Epoch 2/10\n",
      "313/313 [==============================] - 251s 802ms/step - loss: 0.1125 - accuracy: 0.9633 - val_loss: 0.0605 - val_accuracy: 0.9800\n",
      "Epoch 3/10\n",
      "313/313 [==============================] - 251s 802ms/step - loss: 0.0865 - accuracy: 0.9724 - val_loss: 0.0499 - val_accuracy: 0.9837\n",
      "Epoch 4/10\n",
      "313/313 [==============================] - 254s 811ms/step - loss: 0.0721 - accuracy: 0.9773 - val_loss: 0.0685 - val_accuracy: 0.9725\n",
      "Epoch 5/10\n",
      "313/313 [==============================] - 250s 799ms/step - loss: 0.0609 - accuracy: 0.9809 - val_loss: 0.0532 - val_accuracy: 0.9837\n",
      "Epoch 6/10\n",
      "313/313 [==============================] - 254s 813ms/step - loss: 0.0494 - accuracy: 0.9844 - val_loss: 0.0461 - val_accuracy: 0.9812\n",
      "Epoch 7/10\n",
      "313/313 [==============================] - 253s 809ms/step - loss: 0.0493 - accuracy: 0.9832 - val_loss: 0.0615 - val_accuracy: 0.9812\n",
      "Epoch 8/10\n",
      "313/313 [==============================] - 253s 808ms/step - loss: 0.0448 - accuracy: 0.9842 - val_loss: 0.0260 - val_accuracy: 0.9900\n",
      "Epoch 9/10\n",
      "313/313 [==============================] - 253s 807ms/step - loss: 0.0321 - accuracy: 0.9882 - val_loss: 0.0409 - val_accuracy: 0.9825\n",
      "Epoch 10/10\n",
      "313/313 [==============================] - 252s 806ms/step - loss: 0.0450 - accuracy: 0.9846 - val_loss: 0.0317 - val_accuracy: 0.9862\n"
     ]
    }
   ],
   "source": [
    "history = model.fit(data_train, target_train, epochs = 10, validation_data = (data_validation, target_validation)) "
   ]
  },
  {
   "cell_type": "code",
   "execution_count": 7,
   "metadata": {},
   "outputs": [
    {
     "data": {
      "image/png": "[encoded data removed]",
      "text/plain": [
       "<Figure size 720x288 with 2 Axes>"
      ]
     },
     "metadata": {
      "needs_background": "light"
     },
     "output_type": "display_data"
    }
   ],
   "source": [
    "plt.figure(figsize = (10, 4))\n",
    "plt.subplot(1, 2, 1)\n",
    "plt.plot(history.history['loss'], 'r', label = 'training loss')\n",
    "plt.plot(history.history['val_loss'], label = 'validation loss')\n",
    "plt.xlabel('epochs')\n",
    "plt.ylabel('loss')\n",
    "plt.legend(loc = 'best')\n",
    "\n",
    "plt.subplot(1, 2, 2)\n",
    "plt.plot(history.history['accuracy'], 'r', label = 'training accuracy')\n",
    "plt.plot(history.history['val_accuracy'], label = 'validation accuracy')\n",
    "plt.xlabel('epochs')\n",
    "plt.ylabel('loss')\n",
    "plt.legend(loc = 'best')\n",
    "\n",
    "plt.show()"
   ]
  },
  {
   "cell_type": "markdown",
   "metadata": {},
   "source": [
    "## Evaluate the model"
   ]
  },
  {
   "cell_type": "code",
   "execution_count": 8,
   "metadata": {},
   "outputs": [
    {
     "name": "stdout",
     "output_type": "stream",
     "text": [
      "31/31 [==============================] - 6s 198ms/step - loss: 0.0357 - accuracy: 0.9879\n",
      "[0.03571714088320732, 0.9879032373428345]\n"
     ]
    }
   ],
   "source": [
    "print(model.evaluate(data_test, target_test)) "
   ]
  },
  {
   "cell_type": "code",
   "execution_count": 9,
   "metadata": {},
   "outputs": [],
   "source": [
    "target_predicted = model.predict(data_test)\n",
    "target_predicted_classes = np.argmax(target_predicted,axis = 1)\n",
    "target_test_classes = np.argmax(target_test, axis = 1)"
   ]
  },
  {
   "cell_type": "code",
   "execution_count": 10,
   "metadata": {},
   "outputs": [
    {
     "name": "stdout",
     "output_type": "stream",
     "text": [
      "Confusion matrix:\n",
      "[[476   7]\n",
      " [  5 504]]\n"
     ]
    }
   ],
   "source": [
    "confusion_m = confusion_matrix(target_test_classes,target_predicted_classes)\n",
    "print('Confusion matrix:\\n{}'.format(confusion_m))"
   ]
  },
  {
   "cell_type": "code",
   "execution_count": 11,
   "metadata": {},
   "outputs": [
    {
     "name": "stdout",
     "output_type": "stream",
     "text": [
      "Precision score: 0.9863013698630136\n"
     ]
    }
   ],
   "source": [
    "print('Precision score: {}'.format(metrics.precision_score(target_test_classes, target_predicted_classes)))"
   ]
  },
  {
   "cell_type": "code",
   "execution_count": 12,
   "metadata": {},
   "outputs": [
    {
     "name": "stdout",
     "output_type": "stream",
     "text": [
      "Recall score: 0.9901768172888016\n"
     ]
    }
   ],
   "source": [
    "print('Recall score: {}'.format(metrics.recall_score(target_test_classes, target_predicted_classes)))"
   ]
  },
  {
   "cell_type": "code",
   "execution_count": 13,
   "metadata": {},
   "outputs": [
    {
     "name": "stdout",
     "output_type": "stream",
     "text": [
      "F1 score: 0.9882352941176471\n"
     ]
    }
   ],
   "source": [
    "print('F1 score: {}'.format(metrics.f1_score(target_test_classes, target_predicted_classes)))"
   ]
  },
  {
   "cell_type": "code",
   "execution_count": 14,
   "metadata": {},
   "outputs": [
    {
     "name": "stdout",
     "output_type": "stream",
     "text": [
      "              precision    recall  f1-score   support\n",
      "\n",
      "           0       0.99      0.99      0.99       483\n",
      "           1       0.99      0.99      0.99       509\n",
      "\n",
      "    accuracy                           0.99       992\n",
      "   macro avg       0.99      0.99      0.99       992\n",
      "weighted avg       0.99      0.99      0.99       992\n",
      "\n"
     ]
    }
   ],
   "source": [
    "# Classification report\n",
    "report = classification_report(target_test_classes, target_predicted_classes)\n",
    "print(report)"
   ]
  },
  {
   "cell_type": "code",
   "execution_count": null,
   "metadata": {},
   "outputs": [],
   "source": []
  },
  {
   "cell_type": "code",
   "execution_count": 15,
   "metadata": {},
   "outputs": [
    {
     "name": "stdout",
     "output_type": "stream",
     "text": [
      "Saved model to disk\n"
     ]
    }
   ],
   "source": [
    "# Save the model\n",
    "model.save(\"model.h5\")\n",
    "print(\"Saved model to disk\")"
   ]
  },
  {
   "cell_type": "code",
   "execution_count": null,
   "metadata": {},
   "outputs": [],
   "source": []
  }
 ],
 "metadata": {
  "kernelspec": {
   "display_name": "mlp_venv",
   "language": "python",
   "name": "mlp_venv"
  },
  "language_info": {
   "codemirror_mode": {
    "name": "ipython",
    "version": 3
   },
   "file_extension": ".py",
   "mimetype": "text/x-python",
   "name": "python",
   "nbconvert_exporter": "python",
   "pygments_lexer": "ipython3",
   "version": "3.8.5"
  }
 },
 "nbformat": 4,
 "nbformat_minor": 4
}
