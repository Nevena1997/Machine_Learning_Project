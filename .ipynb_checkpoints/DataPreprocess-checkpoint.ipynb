{
 "cells": [
  {
   "cell_type": "code",
   "execution_count": 2,
   "metadata": {},
   "outputs": [
    {
     "name": "stdout",
     "output_type": "stream",
     "text": [
      "Categories: ['WithMask', 'WithoutMask']\n",
      "Labels: [0, 1]\n",
      "{'WithMask': 0, 'WithoutMask': 1}\n"
     ]
    }
   ],
   "source": [
    "import cv2\n",
    "import os\n",
    "import numpy as np\n",
    "from keras.utils import np_utils\n",
    "\n",
    "data_path_train = 'Dataset\\Train'\n",
    "categories = os.listdir(data_path_train)\n",
    "labels = [i for i in range(len(categories))]\n",
    "\n",
    "label_dict = dict(zip(categories,labels))\n",
    "\n",
    "print('Categories: %s' % categories)\n",
    "print('Labels: %s' %labels)\n",
    "print(label_dict)"
   ]
  },
  {
   "cell_type": "code",
   "execution_count": 3,
   "metadata": {},
   "outputs": [],
   "source": [
    "img_size = 100\n",
    "data = []\n",
    "target = []\n",
    "\n",
    "for category in categories:\n",
    "    folder_path = os.path.join(data_path_train, category)\n",
    "    img_names = os.listdir(folder_path)\n",
    "        \n",
    "    # Pravimo data i target skup\n",
    "    for img_name in img_names:\n",
    "        img_path = os.path.join(folder_path, img_name)\n",
    "        img = cv2.imread(img_path)\n",
    "\n",
    "        try:\n",
    "            # Konvertujemo sliku iz RGB u GRAY skalu\n",
    "            gray = cv2.cvtColor(img, cv2.COLOR_BGR2GRAY)\n",
    "            # Menjamo velicinu slike u 100x100 kako bi sve sike bile iste velicine \n",
    "            resized = cv2.resize(gray, (img_size, img_size))\n",
    "            # Dodajemo izmenjenu sliku u data skup\n",
    "            data.append(resized)\n",
    "            # Pamtimo kategoriju slike\n",
    "            target.append(label_dict[category])\n",
    "            \n",
    "        except Exception as e:\n",
    "            print('Exception:',e)"
   ]
  },
  {
   "cell_type": "code",
   "execution_count": 4,
   "metadata": {},
   "outputs": [],
   "source": [
    "data = np.array(data) / 255.0\n",
    "data = np.reshape(data, (data.shape[0], img_size, img_size, 1))\n",
    "target = np.array(target)\n",
    "\n",
    "new_target = np_utils.to_categorical(target)"
   ]
  },
  {
   "cell_type": "code",
   "execution_count": 5,
   "metadata": {},
   "outputs": [],
   "source": [
    "# np.save('data', data)\n",
    "# np.save('target', new_target)"
   ]
  }
 ],
 "metadata": {
  "kernelspec": {
   "display_name": "mlp_venv",
   "language": "python",
   "name": "mlp_venv"
  },
  "language_info": {
   "codemirror_mode": {
    "name": "ipython",
    "version": 3
   },
   "file_extension": ".py",
   "mimetype": "text/x-python",
   "name": "python",
   "nbconvert_exporter": "python",
   "pygments_lexer": "ipython3",
   "version": "3.8.5"
  }
 },
 "nbformat": 4,
 "nbformat_minor": 4
}
