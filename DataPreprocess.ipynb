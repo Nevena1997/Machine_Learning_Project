{
 "cells": [
  {
   "cell_type": "code",
   "execution_count": 15,
   "metadata": {},
   "outputs": [
    {
     "name": "stdout",
     "output_type": "stream",
     "text": [
      "Categories: ['WithMask', 'WithoutMask']\n",
      "Labels: [0, 1]\n",
      "{'WithMask': 0, 'WithoutMask': 1}\n"
     ]
    }
   ],
   "source": [
    "import cv2\n",
    "import os\n",
    "import numpy as np\n",
    "from keras.utils import np_utils\n",
    "\n",
    "data_path_train = 'Dataset\\Train'\n",
    "data_path_test = 'Dataset\\Test'\n",
    "data_path_validation = 'Dataset\\Validation'\n",
    "\n",
    "categories = ['WithMask', 'WithoutMask']\n",
    "labels = [0, 1]\n",
    "\n",
    "label_dict = dict(zip(categories,labels))\n",
    "\n",
    "print('Categories: %s' % categories)\n",
    "print('Labels: %s' %labels)\n",
    "print(label_dict)"
   ]
  },
  {
   "cell_type": "code",
   "execution_count": 16,
   "metadata": {},
   "outputs": [],
   "source": [
    "img_size = 100\n",
    "data_train = []\n",
    "target_train = []\n",
    "\n",
    "for category in categories:\n",
    "    folder_path = os.path.join(data_path_train, category)\n",
    "    img_names = os.listdir(folder_path)\n",
    "        \n",
    "    # Pravimo data i target skup\n",
    "    for img_name in img_names:\n",
    "        img_path = os.path.join(folder_path, img_name)\n",
    "        img = cv2.imread(img_path)\n",
    "\n",
    "        try:\n",
    "            # Konvertujemo sliku iz RGB u GRAY skalu (jer boja ne igra ulogu u detekciji)\n",
    "            gray = cv2.cvtColor(img, cv2.COLOR_BGR2GRAY)\n",
    "            # Menjamo velicinu slike u 100x100 kako bi sve sike bile iste velicine \n",
    "            resized = cv2.resize(gray, (img_size, img_size))\n",
    "            # Dodajemo izmenjenu sliku u data skup\n",
    "            data_train.append(resized)\n",
    "            # Pamtimo kategoriju slike\n",
    "            target_train.append(label_dict[category])\n",
    "            \n",
    "        except Exception as e:\n",
    "            print('Exception:',e)"
   ]
  },
  {
   "cell_type": "code",
   "execution_count": 17,
   "metadata": {},
   "outputs": [
    {
     "name": "stdout",
     "output_type": "stream",
     "text": [
      "(10000, 100, 100, 1)\n"
     ]
    }
   ],
   "source": [
    "data_train = np.array(data_train) / 255.0\n",
    "data_train = np.reshape(data_train, (data_train.shape[0], img_size, img_size, 1))\n",
    "target_train = np.array(target_train)\n",
    "\n",
    "print(data_train.shape)\n",
    "\n",
    "new_target_train = np_utils.to_categorical(target_train)"
   ]
  },
  {
   "cell_type": "code",
   "execution_count": 18,
   "metadata": {},
   "outputs": [],
   "source": [
    "np.save('data_train', data_train)\n",
    "np.save('target_train', new_target_train)"
   ]
  },
  {
   "cell_type": "code",
   "execution_count": 19,
   "metadata": {},
   "outputs": [],
   "source": [
    "img_size = 100\n",
    "data_validation = []\n",
    "target_validation = []\n",
    "\n",
    "for category in categories:\n",
    "    folder_path = os.path.join(data_path_validation, category)\n",
    "    img_names = os.listdir(folder_path)\n",
    "        \n",
    "    # Pravimo data i target skup\n",
    "    for img_name in img_names:\n",
    "        img_path = os.path.join(folder_path, img_name)\n",
    "        img = cv2.imread(img_path)\n",
    "\n",
    "        try:\n",
    "            # Konvertujemo sliku iz RGB u GRAY skalu (jer boja ne igra ulogu u detekciji)\n",
    "            gray = cv2.cvtColor(img, cv2.COLOR_BGR2GRAY)\n",
    "            # Menjamo velicinu slike u 100x100 kako bi sve sike bile iste velicine \n",
    "            resized = cv2.resize(gray, (img_size, img_size))\n",
    "            # Dodajemo izmenjenu sliku u data skup\n",
    "            data_validation.append(resized)\n",
    "            # Pamtimo kategoriju slike\n",
    "            target_validation.append(label_dict[category])\n",
    "            \n",
    "        except Exception as e:\n",
    "            print('Exception:',e)"
   ]
  },
  {
   "cell_type": "code",
   "execution_count": 20,
   "metadata": {},
   "outputs": [
    {
     "name": "stdout",
     "output_type": "stream",
     "text": [
      "(800, 100, 100, 1)\n"
     ]
    }
   ],
   "source": [
    "data_validation = np.array(data_validation) / 255.0\n",
    "data_validation = np.reshape(data_validation, (data_validation.shape[0], img_size, img_size, 1))\n",
    "target_validation = np.array(target_validation)\n",
    "\n",
    "print(data_validation.shape)\n",
    "\n",
    "new_target_validation = np_utils.to_categorical(target_validation)"
   ]
  },
  {
   "cell_type": "code",
   "execution_count": 21,
   "metadata": {},
   "outputs": [],
   "source": [
    "np.save('data_validation', data_validation)\n",
    "np.save('target_validation', new_target_validation)"
   ]
  },
  {
   "cell_type": "code",
   "execution_count": 22,
   "metadata": {},
   "outputs": [],
   "source": [
    "img_size = 100\n",
    "data_test = []\n",
    "target_test = []\n",
    "\n",
    "for category in categories:\n",
    "    folder_path = os.path.join(data_path_test, category)\n",
    "    img_names = os.listdir(folder_path)\n",
    "        \n",
    "    # Pravimo data i target skup\n",
    "    for img_name in img_names:\n",
    "        img_path = os.path.join(folder_path, img_name)\n",
    "        img = cv2.imread(img_path)\n",
    "\n",
    "        try:\n",
    "            # Menjamo velicinu slike u 100x100 kako bi sve sike bile iste velicine \n",
    "            resized = cv2.resize(gray, (img_size, img_size))\n",
    "            # Dodajemo izmenjenu sliku u data skup\n",
    "            data_test.append(resized)\n",
    "            # Pamtimo kategoriju slike\n",
    "            target_test.append(label_dict[category])\n",
    "            \n",
    "        except Exception as e:\n",
    "            print('Exception:',e)"
   ]
  },
  {
   "cell_type": "code",
   "execution_count": 23,
   "metadata": {},
   "outputs": [
    {
     "name": "stdout",
     "output_type": "stream",
     "text": [
      "(992, 100, 100, 1)\n"
     ]
    }
   ],
   "source": [
    "data_test = np.array(data_test) / 255.0\n",
    "data_test = np.reshape(data_test, (data_test.shape[0], img_size, img_size, 1))\n",
    "target_test = np.array(target_test)\n",
    "\n",
    "print(data_test.shape)\n",
    "\n",
    "new_target_test = np_utils.to_categorical(target_test)"
   ]
  },
  {
   "cell_type": "code",
   "execution_count": 24,
   "metadata": {},
   "outputs": [],
   "source": [
    "np.save('data_test', data_test)\n",
    "np.save('target_test', new_target_test)"
   ]
  },
  {
   "cell_type": "code",
   "execution_count": null,
   "metadata": {},
   "outputs": [],
   "source": []
  }
 ],
 "metadata": {
  "kernelspec": {
   "display_name": "mlp_venv",
   "language": "python",
   "name": "mlp_venv"
  },
  "language_info": {
   "codemirror_mode": {
    "name": "ipython",
    "version": 3
   },
   "file_extension": ".py",
   "mimetype": "text/x-python",
   "name": "python",
   "nbconvert_exporter": "python",
   "pygments_lexer": "ipython3",
   "version": "3.8.5"
  }
 },
 "nbformat": 4,
 "nbformat_minor": 4
}
