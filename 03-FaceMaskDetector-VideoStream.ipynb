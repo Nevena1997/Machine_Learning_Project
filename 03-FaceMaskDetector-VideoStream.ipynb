{
 "cells": [
  {
   "cell_type": "markdown",
   "metadata": {},
   "source": [
    "### Face Mask Detector \n",
    "<img src=\"https://user-images.githubusercontent.com/74012107/130773556-28eb52f0-e368-4506-82eb-75a564754664.png\" width=\"1000\" height=\"700\">"
   ]
  },
  {
   "cell_type": "code",
   "execution_count": 1,
   "metadata": {},
   "outputs": [],
   "source": [
    "import tensorflow as tf\n",
    "from tensorflow.keras.models import load_model\n",
    "import cv2\n",
    "import numpy as np"
   ]
  },
  {
   "cell_type": "code",
   "execution_count": 2,
   "metadata": {},
   "outputs": [],
   "source": [
    "model = load_model('model.h5')\n",
    "\n",
    "labels_dict = {0 : 'MASK', 1 : 'NO MASK'}\n",
    "color_dict = {0 :(0, 255, 0), 1 : (0, 0, 255)} # green for 'MASK', red for 'NO MASK'"
   ]
  },
  {
   "cell_type": "code",
   "execution_count": 3,
   "metadata": {},
   "outputs": [],
   "source": [
    "face_cascade = cv2.CascadeClassifier(cv2.data.haarcascades + 'haarcascade_frontalface_default.xml')"
   ]
  },
  {
   "cell_type": "code",
   "execution_count": 4,
   "metadata": {},
   "outputs": [],
   "source": [
    "saved_images = 0\n",
    "source = cv2.VideoCapture(0)\n",
    "\n",
    "while(True):\n",
    "\n",
    "    # Preprocess the image\n",
    "    ret, image = source.read()\n",
    "    gray = cv2.cvtColor(image, cv2.COLOR_BGR2GRAY)\n",
    "    \n",
    "    # Detect faces in the image\n",
    "    faces = face_cascade.detectMultiScale(gray, 1.2, 5)  \n",
    "\n",
    "    for (x, y, w, h) in faces:  \n",
    "        face_image = gray[y : y + w, x : x + w]\n",
    "        resized = cv2.resize(face_image, (100, 100))\n",
    "        normalized = resized / 255.0\n",
    "        reshaped = np.reshape(normalized, (1, 100, 100, 1))\n",
    "        \n",
    "        result = model.predict(reshaped)\n",
    "        \n",
    "        probability = round(result[0][np.argmax(result[0])], 3)\n",
    "        label = np.argmax(result, axis = 1)[0]\n",
    "      \n",
    "        # Frame the face and print the result\n",
    "        cv2.rectangle(image, (x,y), (x + w, y + h), color_dict[label], 2)\n",
    "        cv2.rectangle(image, (x, y - 40), (x + w, y), color_dict[label], -1)\n",
    "        cv2.putText(image, labels_dict[label] + ' ' + str(probability), \n",
    "                    (x, y - 10), cv2.FONT_HERSHEY_SIMPLEX, 0.6, (255, 255, 255), 1)\n",
    "        \n",
    "    cv2.imshow('LIVE', image)\n",
    "    key = cv2.waitKey(1)\n",
    "    \n",
    "    if(key == 27): # wait for 'ESC' key to exit\n",
    "        break\n",
    "    elif key == ord('s'): # wait for 's' key to save the image\n",
    "        cv2.imwrite('FaceMaskDetector' + str(saved_images) + '.png', img)\n",
    "        saved_images += 1\n",
    "        \n",
    "        \n",
    "cv2.destroyAllWindows()\n",
    "source.release()"
   ]
  },
  {
   "cell_type": "code",
   "execution_count": null,
   "metadata": {},
   "outputs": [],
   "source": []
  }
 ],
 "metadata": {
  "kernelspec": {
   "display_name": "mlp_venv",
   "language": "python",
   "name": "mlp_venv"
  },
  "language_info": {
   "codemirror_mode": {
    "name": "ipython",
    "version": 3
   },
   "file_extension": ".py",
   "mimetype": "text/x-python",
   "name": "python",
   "nbconvert_exporter": "python",
   "pygments_lexer": "ipython3",
   "version": "3.8.5"
  }
 },
 "nbformat": 4,
 "nbformat_minor": 4
}
