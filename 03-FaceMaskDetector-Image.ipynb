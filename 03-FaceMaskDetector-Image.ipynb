{
 "cells": [
  {
   "cell_type": "markdown",
   "metadata": {},
   "source": [
    "### Face Mask Detector \n",
    "<img src=\"https://user-images.githubusercontent.com/74012107/130773556-28eb52f0-e368-4506-82eb-75a564754664.png\" width=\"1000\" height=\"700\">"
   ]
  },
  {
   "cell_type": "code",
   "execution_count": 1,
   "metadata": {},
   "outputs": [],
   "source": [
    "import cv2\n",
    "import numpy as np\n",
    "import tensorflow as tf\n",
    "from tensorflow.keras.models import load_model"
   ]
  },
  {
   "cell_type": "code",
   "execution_count": 2,
   "metadata": {},
   "outputs": [],
   "source": [
    "model = load_model('model.h5')\n",
    "\n",
    "labels_dict = {0 : 'MASK', 1 : 'NO MASK'}\n",
    "color_dict = {0 :(0, 255, 0), 1 : (0, 0, 255)} # green for 'MASK', red for 'NO MASK'"
   ]
  },
  {
   "cell_type": "code",
   "execution_count": 3,
   "metadata": {},
   "outputs": [],
   "source": [
    "face_cascade = cv2.CascadeClassifier(cv2.data.haarcascades + 'haarcascade_frontalface_default.xml')"
   ]
  },
  {
   "cell_type": "code",
   "execution_count": 4,
   "metadata": {},
   "outputs": [
    {
     "name": "stdout",
     "output_type": "stream",
     "text": [
      "With mask:  0\n",
      "Without mask:  6\n"
     ]
    },
    {
     "data": {
      "text/plain": [
       "True"
      ]
     },
     "execution_count": 4,
     "metadata": {},
     "output_type": "execute_result"
    }
   ],
   "source": [
    "image_path = 'Images/235690953_197071642481852_2696800264961657888_n.jpg'\n",
    "with_mask = 0\n",
    "without_mask = 0\n",
    "\n",
    "# Preprocess the image\n",
    "image = cv2.imread(image_path)\n",
    "gray = cv2.cvtColor(image, cv2.COLOR_BGR2GRAY)\n",
    "\n",
    "# Detect faces in the image\n",
    "faces = face_cascade.detectMultiScale(gray, 1.2, 6)  \n",
    "\n",
    "for (x, y, w, h) in faces:\n",
    "    face_image = gray[y : y + w, x : x + w]\n",
    "    resized = cv2.resize(face_image, (100, 100))\n",
    "    normalized = resized / 255.0\n",
    "    reshaped = np.reshape(normalized, (1, 100, 100, 1))\n",
    "\n",
    "    result = model.predict(reshaped)\n",
    "\n",
    "    probability = round(result[0][np.argmax(result[0])], 3)\n",
    "    label = np.argmax(result, axis = 1)[0]\n",
    "\n",
    "    # Frame the face and print the result\n",
    "    cv2.rectangle(image, (x,y), (x + w, y + h), color_dict[label], 2)\n",
    "    cv2.rectangle(image, (x, y - 40), (x + w, y), color_dict[label], -1)\n",
    "    cv2.putText(image, labels_dict[label] + ' ' + str(probability), \n",
    "                (x, y - 10), cv2.FONT_HERSHEY_SIMPLEX, 1, (255, 255, 255), 3)\n",
    "    \n",
    "    if label == 0:\n",
    "        with_mask += 1\n",
    "    else:\n",
    "        without_mask +=1\n",
    "    \n",
    "    \n",
    "print('With mask: ', with_mask)\n",
    "print('Without mask: ', without_mask)\n",
    "\n",
    "image_name = image_path[image_path.index('/') + 1:]\n",
    "# print(image_name)\n",
    "cv2.imwrite('Images/FMDetector' + image_name, image)"
   ]
  },
  {
   "cell_type": "code",
   "execution_count": null,
   "metadata": {},
   "outputs": [],
   "source": []
  }
 ],
 "metadata": {
  "kernelspec": {
   "display_name": "mlp_venv",
   "language": "python",
   "name": "mlp_venv"
  },
  "language_info": {
   "codemirror_mode": {
    "name": "ipython",
    "version": 3
   },
   "file_extension": ".py",
   "mimetype": "text/x-python",
   "name": "python",
   "nbconvert_exporter": "python",
   "pygments_lexer": "ipython3",
   "version": "3.8.5"
  }
 },
 "nbformat": 4,
 "nbformat_minor": 4
}
